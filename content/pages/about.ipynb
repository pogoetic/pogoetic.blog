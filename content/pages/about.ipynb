{
 "cells": [
  {
   "cell_type": "markdown",
   "metadata": {},
   "source": [
    "## EVGENY POGORELOV\n",
    "#### Data Scientist, Software Engineer, and Consultant in Los Angeles, California"
   ]
  },
  {
   "cell_type": "markdown",
   "metadata": {},
   "source": [
    "**You can check out my resume [here]({static}/extra/res-redact-032019.pdf).**"
   ]
  },
  {
   "cell_type": "markdown",
   "metadata": {},
   "source": [
    "_**The only way to do great work is to love what you do.**_\n",
    "\n",
    "I am a data scientist with a focus on machine learning, automation, business strategy development, and improving institutional decision-making.\n",
    "\n",
    "I use Python and related packages (scikit-learn, pandas, numpy, matplotlib, seaborn, etc.) and T-SQL with experience in MSFT SQL Server, MySQL, MariaDB, and AWS RedShift. I analyze massive data-sets in PowerBI, Excel, and Tableau.\n",
    "\n",
    "My interests are in leveraging mature and emerging technologies to help address the most urgent global issues: [Global Priorities Research](https://80000hours.org/problem-profiles/global-priorities-research/), [Blockchain](https://en.wikipedia.org/wiki/Blockchain), [Existential Risk Reduction](https://80000hours.org/articles/extinction-risk/), Improving Democracy, Renewable Energy, [Preventing Ecological Collapse](https://en.wikipedia.org/wiki/Ecological_collapse), [Becoming a Multi-Planetary Species](https://futurism.com/in-order-to-ensure-human-survival-we-must-become-a-multi-planetary-species)    "
   ]
  },
  {
   "cell_type": "markdown",
   "metadata": {},
   "source": [
    "**Press**  \n",
    "\n",
    "- [Dataiku - Addressing Fraud with Machine Learning](https://blog.dataiku.com/addressing-fraud-with-machine-learning-how-why)"
   ]
  },
  {
   "cell_type": "markdown",
   "metadata": {},
   "source": [
    "If you find my work helpful and want to support future projects, please consider donating :)\n",
    "\n",
    "<a href=\"https://paypal.me/evgenypogorelov\" target=\"_blank\">Support the Author</a>"
   ]
  }
 ],
 "metadata": {
  "kernelspec": {
   "display_name": "Python 3",
   "language": "python",
   "name": "python3"
  },
  "language_info": {
   "codemirror_mode": {
    "name": "ipython",
    "version": 3
   },
   "file_extension": ".py",
   "mimetype": "text/x-python",
   "name": "python",
   "nbconvert_exporter": "python",
   "pygments_lexer": "ipython3",
   "version": "3.7.5"
  }
 },
 "nbformat": 4,
 "nbformat_minor": 4
}
