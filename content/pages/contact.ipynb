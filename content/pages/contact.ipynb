{
 "cells": [
  {
   "cell_type": "markdown",
   "metadata": {},
   "source": [
    "If you're interested in my work or just have a question, please feel free to contact me anytime.\n",
    "\n",
    "If you spot any errors in this blog, you can open an issue [here](https://github.com/pogoetic/pogoetic.github.io/issues/). \n",
    "Otherwise you can contact me at `ev [at] evgenypogorelov [dot] com`"
   ]
  }
 ],
 "metadata": {
  "kernelspec": {
   "display_name": "Python 3",
   "language": "python",
   "name": "python3"
  },
  "language_info": {
   "codemirror_mode": {
    "name": "ipython",
    "version": 3
   },
   "file_extension": ".py",
   "mimetype": "text/x-python",
   "name": "python",
   "nbconvert_exporter": "python",
   "pygments_lexer": "ipython3",
   "version": "3.7.5"
  }
 },
 "nbformat": 4,
 "nbformat_minor": 4
}
